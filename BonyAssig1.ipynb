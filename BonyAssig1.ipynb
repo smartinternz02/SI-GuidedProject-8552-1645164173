{
 "cells": [
  {
   "cell_type": "code",
   "execution_count": 1,
   "metadata": {},
   "outputs": [
    {
     "name": "stdout",
     "output_type": "stream",
     "text": [
      "2401\n"
     ]
    }
   ],
   "source": [
    "# 1. What is 7 to the power of 4?\n",
    "\n",
    "print(pow(7,4))\n"
   ]
  },
  {
   "cell_type": "code",
   "execution_count": 2,
   "metadata": {},
   "outputs": [
    {
     "name": "stdout",
     "output_type": "stream",
     "text": [
      "['Hi', 'there', 'Sam!']\n"
     ]
    }
   ],
   "source": [
    "# 2.  Split this string into a list. \n",
    "#    s = \"Hi there Sam!\"\n",
    "\n",
    "str = \"Hi there Sam!\"\n",
    "l=str.split()\n",
    "print(l)"
   ]
  },
  {
   "cell_type": "code",
   "execution_count": 3,
   "metadata": {},
   "outputs": [
    {
     "name": "stdout",
     "output_type": "stream",
     "text": [
      "The diameter of Earth is 12742 kilometers.\n"
     ]
    }
   ],
   "source": [
    "# 3.Given the variables\n",
    "#     planet = \"Earth\"\n",
    "#     diameter = 12742\n",
    "# Use .format() to print the following string\n",
    "# The diameter of Earth is 12742 kilometers.\n",
    "\n",
    "planet = \"Earth\"\n",
    "diameter = 12742\n",
    "str = \"The diameter of {} is {} kilometers.\"\n",
    "print(str.format(planet,diameter))"
   ]
  },
  {
   "cell_type": "code",
   "execution_count": 5,
   "metadata": {},
   "outputs": [
    {
     "name": "stdout",
     "output_type": "stream",
     "text": [
      "hello\n"
     ]
    }
   ],
   "source": [
    "# 4.Given this nested list, use indexing to grab the word \"hello\n",
    "#     lst = [1,2,[3,4],[5,[100,200,['hello']],23,11],1,7]\n",
    "\n",
    "\n",
    "lst = [1,2,[3,4],[5,[100,200,['hello']],23,11],1,7]\n",
    "\n",
    "print(lst[3][1][2][0])"
   ]
  },
  {
   "cell_type": "code",
   "execution_count": 6,
   "metadata": {},
   "outputs": [
    {
     "name": "stdout",
     "output_type": "stream",
     "text": [
      "hello\n"
     ]
    }
   ],
   "source": [
    "# 5. Given this nested dictionary grab the word \"hello\". Be prepared, this will be annoying/tricky\n",
    "#     d = {'k1':[1,2,3,{'tricky':['oh','man','inception',{'target':[1,2,3,'hello']}]}]}\n",
    "\n",
    "\n",
    "d = {'k1':[1,2,3,{'tricky':['oh','man','inception',{'target':[1,2,3,'hello']}]}]}\n",
    "print(d['k1'][3]['tricky'][3]['target'][3])"
   ]
  },
  {
   "cell_type": "code",
   "execution_count": null,
   "metadata": {},
   "outputs": [],
   "source": [
    "# 6.What is the main difference between a tuple and a list?\n",
    "\n",
    "LIST\n",
    "\n",
    "Lists are mutable.\n",
    "The implication of iterations is time-consuming in the list.\n",
    "Operations like insertion and deletion are better performed.\n",
    "Lists consume more memory.\n",
    "Lists have several built-in methods.\n",
    "The unexpected changes and errors are more likely to occur.\n",
    "\n",
    "TUPLE\n",
    "\n",
    "Tuples are immutable.\n",
    "The implication of iterations is comparatively Faster.\n",
    "Tuple data type is appropriate for accessing the elements.\n",
    "Tuple consume less memory as compared to the list.\n",
    "Tuple does not have many built-in methods.\n",
    "In tuple, it is hard to take place.\n"
   ]
  },
  {
   "cell_type": "code",
   "execution_count": 8,
   "metadata": {},
   "outputs": [
    {
     "name": "stdout",
     "output_type": "stream",
     "text": [
      "Enter your email :annaalex455@gmail.com\n",
      "Your domain :  gmail.com\n"
     ]
    }
   ],
   "source": [
    "# 7.Create a function that grabs the email website domain from a string in the form : user@domain.com\n",
    "#     So for example, passing \"user@domain.com\" would return: domain.com\n",
    "\n",
    "\n",
    "def grab(email):\n",
    "    print(\"Your domain : \",email[email.find(\"@\")+1:])\n",
    "    \n",
    "email= input(\"Enter your email :\")\n",
    "grab(email)"
   ]
  },
  {
   "cell_type": "code",
   "execution_count": 9,
   "metadata": {},
   "outputs": [
    {
     "name": "stdout",
     "output_type": "stream",
     "text": [
      "Enter your string : The dog is barking.\n",
      "True\n"
     ]
    }
   ],
   "source": [
    "# 8. Create a basic function that returns True if the word 'dog' is contained in the input string. \n",
    "#     Don't worry about edge cases like a punctuation being attached to the word dog, but do account for capitalization.\n",
    "\n",
    "def check(str):\n",
    "    if 'dog' in str:\n",
    "        print(\"True\")\n",
    "    else:\n",
    "        print(\"False\")\n",
    "\n",
    "str = input(\"Enter your string : \")\n",
    "check(str.lower())"
   ]
  },
  {
   "cell_type": "code",
   "execution_count": 10,
   "metadata": {},
   "outputs": [
    {
     "data": {
      "text/plain": [
       "['soup', 'salad']"
      ]
     },
     "execution_count": 10,
     "metadata": {},
     "output_type": "execute_result"
    }
   ],
   "source": [
    "# 9. Use lambda expressions and the filter() function to filter out words from a list that don't start with the letter 's'.\n",
    "#     For example:\n",
    "#     seq = ['soup','dog','salad','cat','great']\n",
    "#     should be filtered down to:    ['soup','salad']\n",
    "\n",
    "\n",
    "seq = ['soup','dog','salad','cat','great']\n",
    "\n",
    "list(filter(lambda x : x[0]=='s',seq))\n"
   ]
  },
  {
   "cell_type": "code",
   "execution_count": 11,
   "metadata": {},
   "outputs": [
    {
     "name": "stdout",
     "output_type": "stream",
     "text": [
      "Speed of car : 90\n",
      "Enter your DOB (DD/MM/YYYY) :26/04/1999\n",
      "Big ticket\n"
     ]
    }
   ],
   "source": [
    "# 10. You are driving a little too fast, and a police officer stops you. Write a function\n",
    "#       to return one of 3 possible results: \"No ticket\", \"Small ticket\", or \"Big Ticket\". \n",
    "#       If your speed is 60 or less, the result is \"No Ticket\". If speed is between 61 \n",
    "#       and 80 inclusive, the result is \"Small Ticket\". If speed is 81 or more, the result is \"Big    Ticket\".\n",
    "#      Unless it is your birthday (encoded as a boolean value in the parameters of the function) --\n",
    "#      on your birthday, your speed can be 5 higher in all cases. \n",
    "\n",
    "def checking(sp,bday):\n",
    "    if bday=='12/05/1999':\n",
    "        s=sp-5\n",
    "    else:\n",
    "        s=sp\n",
    "    if s<=60:\n",
    "        print(\"No ticket\")\n",
    "    elif s>61 and s<=80:\n",
    "        print(\"Small ticket\")\n",
    "    else:\n",
    "        print(\"Big ticket\")\n",
    "        \n",
    "sp = int(input(\"Speed of car : \"))\n",
    "bd = input(\"Enter your DOB (DD/MM/YYYY) :\")\n",
    "checking(sp,bd)        "
   ]
  },
  {
   "cell_type": "code",
   "execution_count": null,
   "metadata": {},
   "outputs": [],
   "source": []
  }
 ],
 "metadata": {
  "kernelspec": {
   "display_name": "Python 3",
   "language": "python",
   "name": "python3"
  },
  "language_info": {
   "codemirror_mode": {
    "name": "ipython",
    "version": 3
   },
   "file_extension": ".py",
   "mimetype": "text/x-python",
   "name": "python",
   "nbconvert_exporter": "python",
   "pygments_lexer": "ipython3",
   "version": "3.7.3"
  }
 },
 "nbformat": 4,
 "nbformat_minor": 4
}
